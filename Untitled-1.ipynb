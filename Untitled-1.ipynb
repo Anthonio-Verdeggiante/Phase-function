{
 "cells": [
  {
   "cell_type": "code",
   "execution_count": null,
   "metadata": {},
   "outputs": [
    {
     "ename": "",
     "evalue": "",
     "output_type": "error",
     "traceback": [
      "\u001b[1;31mRunning cells with 'Python 3.11.9' requires the ipykernel package.\n",
      "\u001b[1;31mRun the following command to install 'ipykernel' into the Python environment. \n",
      "\u001b[1;31mCommand: '\"c:/Users/Anthony Van der Vice/AppData/Local/Microsoft/WindowsApps/python3.11.exe\" -m pip install ipykernel -U --user --force-reinstall'"
     ]
    }
   ],
   "source": [
    "import numpy as np\n",
    "import matplotlib.pyplot as plt\n",
    "import scipy as sc\n",
    "\n",
    "phase01 = 'test_file_250424_1.bin'\n",
    "phase02 = 'test_file_250424_2.bin'\n",
    "\n",
    "data01 = np.fromfile(phase01,dtype=np.complex64)\n",
    "data02 = np.fromfile(phase02,dtype=np.complex64)\n",
    "\n",
    "time01 = np.zeros(30)\n",
    "# time01 = np.arange(len(data01))\n",
    "# time02 = np.arange(len(data02))\n",
    "# Получаем мнимую часть комплексных чисел\n",
    "imaginary_parts01 = np.imag(data01)\n",
    "real_parts1 = np.real(data01)\n",
    "imaginary_parts02 = np.imag(data02)\n",
    "real_parts2 = np.real(data02)\n",
    "phase2 = np.zeros(30)\n",
    "phase1 = np.zeros(30)\n",
    "sr=192000\n",
    "print(len(imaginary_parts01))\n",
    "data1 = np.zeros(30)\n",
    "data2 = np.zeros(30)\n",
    "\n",
    "data11 = np.zeros(30)\n",
    "data22 = np.zeros(30)\n",
    "data111 = np.zeros(30)\n",
    "time=np.zeros(len(data01))\n",
    "for i in range(30):\n",
    "\n",
    "    # phase1[i] = np.arctan(imaginary_parts01[i*sr]/real_parts1[i*sr])\n",
    "    # phase2[i] = np.arctan(imaginary_parts02[i*sr]/real_parts2[i*sr])\n",
    "    \n",
    "\n",
    "    time01[i] = i\n",
    "\n",
    "    data1[i] = data01[i*sr]\n",
    "    data2[i] = data02[i*sr]\n",
    "\n",
    "    data11[i] = data01[i*sr]*np.cos(5000000*time[i*sr])\n",
    "    data111[i] = -data01[i*sr]*np.sin(5000000*time[i*sr])\n",
    "    phase1[i] = np.arctan(data111[i]/data11[i])\n"
   ]
  },
  {
   "cell_type": "code",
   "execution_count": null,
   "metadata": {},
   "outputs": [],
   "source": [
    "\n",
    "# plt.plot(time01, phase1, marker='o')\n",
    "# plt.xlabel('Время')\n",
    "# plt.ylabel('Значение')\n",
    "# plt.title('Лул')\n",
    "# plt.grid(True)\n",
    "# plt.figure()\n",
    "\n",
    "# plt.plot(time01, data2, marker='o')\n",
    "# plt.xlabel('Время')\n",
    "# plt.ylabel('Значение')\n",
    "# plt.title('Лул')\n",
    "# plt.grid(True)\n",
    "\n",
    "# plt.plot(time01, phase1, marker='o')\n",
    "# plt.xlabel('Время')\n",
    "# plt.ylabel('Фаза')\n",
    "# plt.title('Первый файл')\n",
    "# plt.grid(True)\n",
    "\n",
    "\n",
    "# plt.plot(time01, phase2, marker='o')\n",
    "# plt.xlabel('Время')\n",
    "# plt.ylabel('Фаза')\n",
    "# plt.title('Первый файл')\n",
    "# plt.grid(True)\n",
    "# plt.show()\n",
    "\n",
    "# imaginary_parts02 = np.imag(data02)\n",
    "\n",
    "# # Строим график\n",
    "# plt.plot(time02, imaginary_parts02, marker='o')\n",
    "# plt.xlabel('Время')\n",
    "# plt.ylabel('Фаза')\n",
    "# plt.title('Второй файл')\n",
    "# plt.grid(True)\n",
    "# plt.show()"
   ]
  }
 ],
 "metadata": {
  "kernelspec": {
   "display_name": "Python 3",
   "language": "python",
   "name": "python3"
  },
  "language_info": {
   "name": "python",
   "version": "3.11.9"
  }
 },
 "nbformat": 4,
 "nbformat_minor": 2
}
